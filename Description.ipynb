{
 "cells": [
  {
   "cell_type": "markdown",
   "metadata": {
    "slideshow": {
     "slide_type": "-"
    }
   },
   "source": [
    "<div style=\"direction:rtl;line-height:300%;\"><font face=\"B Titr\" size=5>\n",
    "<div style=\"direction:rtl;line-height:300%;\"><font face=\"B Nazanin\" size=5>\n",
    "<div align=center>\n",
    "<font face=\"B Titr\" size=30>\n",
    "<p></p>\n",
    "به نام خدا\n",
    "</font>\n",
    "<br>\n",
    "<font color=#FF7500>\n",
    "دانشگاه صنعتی شریف - دانشکده مهندسی کامپیوتر\n",
    "</font>\n",
    "<br>\n",
    "<font color=blue>\n",
    "مبانی بیوانفورماتیک\n",
    "</font>\n",
    "<br>\n",
    "محسن نقی‌پورفر\n",
    "\n",
    "<br>\n",
    "۹۴۱۰۶۷۵۷\n",
    "</div>\n",
    "<hr/>\n",
    "<font color=red size=6>\n",
    "<p></p>\n",
    "\n",
    "\n",
    "\n",
    "<style type=\"text/css\" scoped>\n",
    "p{\n",
    "border: 1px solid #a2a9b1;background-color: #f8f9fa;display: inline-block;\n",
    "};\n",
    "</style>\n",
    "\n",
    "<div>\n",
    "<h3> فهرست محتویات</h3>\n",
    "<ul style=\"margin-right: 0;\">\n",
    "<li><a href=\"#section1\">قسمت اول: مقدمه</a></li>\n",
    "<li><a href=\"#section2\">قسمت دوم: توالی</a></li>\n",
    "<li><a href=\"#section3\">قسمت سوم: تشکیل درخت زندگی</a></li>\n",
    "<li><a href=\"#section4\">تخمین گذشته، پیش‌بینی آینده!</a></li>\n",
    "</ul>\n",
    "</div>"
   ]
  },
  {
   "cell_type": "markdown",
   "metadata": {},
   "source": [
    "<div style=\"direction:rtl;line-height:300%;\"><font face=\"B Nazanin\" size=5>\n",
    "<h1><font  id=\"section1\" color=#FF7500 size=6>\n",
    "قسمت اول: مقدمه\n",
    "</font>\n",
    "</h1><p></p>\n",
    "سلام! به پروژه مبانی بیوانفورماتیک خوش آمدید! در این قسمت از پروژه قرار است، داده های مورد نیاز را از فایل‌ها بخوانیم و آنها را پردازش کنیم. ابتدا داده‌های مربوط به توالی ژنوم های گونه های مختلف ویروس ابولا و ژن های ویروس ماربرگ را خوانده، سپس با استفاده از توالی ژن های این ویروس، و داشتن ترتیب آمدن این ژن‌ها در توالی ویروس ابولا، با استفاده از الگوریتم های هم‌ترازی سعی در یافتن این توالی‌ها در گونه ‌های مختلف این ویروس می‌کنیم.\n",
    "<br>\n",
    "<br>\n",
    "</div>"
   ]
  },
  {
   "cell_type": "markdown",
   "metadata": {},
   "source": [
    "<div style=\"direction:rtl;line-height:300%;\"><font face=\"XB Zar\" size=5>\n",
    "<font color=#FF7500> \n",
    "<b>\n",
    "توجه: \n",
    "</b>\n",
    "</font>\n",
    "این پروژه در یک مخزن گیت‌هاب نگه داری می‌شود. برای مراجعه به آن می‌توانید به <a href=\"http://github.com/MohsenNp/Ebolavirus\">اینجا</a> مراجعه فرمایید. همچنین این پروژه با زبان پایتون، پیاده‌سازی شده است.\n",
    "</font></div>"
   ]
  },
  {
   "cell_type": "markdown",
   "metadata": {},
   "source": [
    "<div style=\"direction:rtl;line-height:300%;\"><font face=\"B Nazanin\" size=5>\n",
    "درابتدا باتوجه به کدی که در پایی آمده است، متغیر های لازم را تعریف کرده و توابع مورد نیاز را پیاده‌سازی می کنیم. لازم به ذکر است که از پکیج های BioPython، Mathplotlib، Numpy، Pandas و ... استفاده شده است.\n",
    "</div>"
   ]
  },
  {
   "cell_type": "code",
   "execution_count": 32,
   "metadata": {
    "collapsed": false
   },
   "outputs": [],
   "source": [
    "from Bio import SeqIO\n",
    "from Bio import pairwise2\n",
    "marburg_genes = [] # list of marburg genes\n",
    "ebolavirus_genomes = [] # list of ebolavirus genomes \n",
    "all_genes = {} # dictionary which maps each geneName to found sequences in ebola genomes\n",
    "edit_distance_matrices = [[[0 for i in range(5)] for j in range(5)] for k in range(7)] # matrix for edit distances\n",
    "gene_names = ['GP', 'L', 'VP24', 'VP30', 'VP35', 'VP40', 'NP'] # all 7 gene names"
   ]
  },
  {
   "cell_type": "code",
   "execution_count": 28,
   "metadata": {
    "collapsed": true
   },
   "outputs": [],
   "source": [
    "def read_data(): # read data and initialize variables\n",
    "    global ebolavirus_genomes, marburg_genes\n",
    "    # read Marburg genes data\n",
    "    marburg_genes = []\n",
    "    for seq_record in SeqIO.parse(\"./Data/Marburg_Genes.fasta\", \"fasta\"):\n",
    "        marburg_genes.append(seq_record)\n",
    "\n",
    "    # read Ebolaviruses genome data as seq_record objects\n",
    "    Bundibugyo_genome = SeqIO.read(\"./Data/Bundibugyo_genome.fasta\", \"fasta\")\n",
    "    Reston_genome = SeqIO.read(\"./Data/Reston_genome.fasta\", \"fasta\")\n",
    "    Sudan_genome = SeqIO.read(\"./Data/Sudan_genome.fasta\", \"fasta\")\n",
    "    TaiForest_genome = SeqIO.read(\"./Data/TaiForest_genome.fasta\", \"fasta\")\n",
    "    Zaire_genome = SeqIO.read(\"./Data/Zaire_genome.fasta\", \"fasta\")\n",
    "    ebolavirus_genomes = [Bundibugyo_genome, Reston_genome, Sudan_genome, TaiForest_genome, Zaire_genome]"
   ]
  },
  {
   "cell_type": "code",
   "execution_count": 29,
   "metadata": {
    "collapsed": true
   },
   "outputs": [],
   "source": [
    "def align_and_find_genes(genome): # genome is the sequence of ebolavirus genome\n",
    "    f = open('./Output/found_genes/' + genome.name + '.csv', \"w\") # open file to write to it!\n",
    "    start = 0\n",
    "    for gene in marburg_genes: # For each genes found in marburg virus\n",
    "        len_gene = len(gene.seq)\n",
    "        end = (start + len_gene * 3) if len(genome) > (start + len_gene * 3) else len(genome) \n",
    "        gene_str = str(gene.seq)\n",
    "        genome_str = str(genome.seq)[start: start + len_gene * 3] # Just consider a subsequence of genome \n",
    "        alignments = pairwise2.align.localmd(gene_str, genome_str, 1, -1, -1, -.5, 0, 0) # Using biopython alignment function\n",
    "        final_alignment = alignments[0]  # final_alignment contains --> [align1, align2, score, begin, end]\n",
    "        begin_idx = final_alignment[3] # 3 is begin\n",
    "        end_idx = final_alignment[4] # 4 is end\n",
    "        f.write(gene.name + \",\" + str(start + begin_idx) + \",\" + str(start + end_idx) + \"\\n\") # write to file\n",
    "        start = end - len_gene # update start index for the next gene to align\n",
    "    f.close()"
   ]
  },
  {
   "cell_type": "code",
   "execution_count": 30,
   "metadata": {
    "collapsed": true
   },
   "outputs": [],
   "source": [
    "def start_aligning(): # Align all genes to all genomes in the given data\n",
    "    for genome in ebolavirus_genomes:\n",
    "        align_and_find_genes(genome)"
   ]
  },
  {
   "cell_type": "code",
   "execution_count": null,
   "metadata": {
    "collapsed": false
   },
   "outputs": [],
   "source": [
    "read_data()\n",
    "# start_aligning()"
   ]
  },
  {
   "cell_type": "markdown",
   "metadata": {},
   "source": [
    "<div style=\"direction:rtl;line-height:300%;\"><font face=\"B Nazanin\" size=5>\n",
    "همانطور که از توابع تعریف شده در بالا مشخص است، با استفاده از این توابع،‌توالی ها را با استفاده از پکیج biopython خوانده و ژن های ویروس ماربرگ را در توالی ژنوم ۵ گونه ویروس ابولا هم تراز کرده و این اندیس ابتدا و انتهای این ژن هارا در فایل های مربوط به هر گونه ذخیره می‌کنیم."
   ]
  },
  {
   "cell_type": "code",
   "execution_count": null,
   "metadata": {
    "collapsed": true
   },
   "outputs": [],
   "source": []
  }
 ],
 "metadata": {
  "kernelspec": {
   "display_name": "Python 3",
   "language": "python",
   "name": "python3"
  },
  "language_info": {
   "codemirror_mode": {
    "name": "ipython",
    "version": 3
   },
   "file_extension": ".py",
   "mimetype": "text/x-python",
   "name": "python",
   "nbconvert_exporter": "python",
   "pygments_lexer": "ipython3",
   "version": "3.6.0"
  }
 },
 "nbformat": 4,
 "nbformat_minor": 0
}
